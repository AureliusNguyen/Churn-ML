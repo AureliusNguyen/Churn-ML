{
 "cells": [
  {
   "cell_type": "code",
   "execution_count": null,
   "metadata": {
    "vscode": {
     "languageId": "plaintext"
    }
   },
   "outputs": [],
   "source": [
    "import requests\n",
    "import json\n",
    "\n",
    "# URL of your deployed model\n",
    "url = \"\"\n",
    "\n",
    "# Sample customer data\n",
    "customer_data = {\n",
    "    \"CreditScore\": 200,\n",
    "    \"Geography\": \"France\",\n",
    "    \"Gender\": \"Male\",\n",
    "    \"Age\": 35,\n",
    "    \"Tenure\": 0,\n",
    "    \"Balance\": 0,\n",
    "    \"NumOfProducts\": 70,\n",
    "    \"HasCrCard\": 1,\n",
    "    \"IsActiveMember\": 1,\n",
    "    \"EstimatedSalary\": 8\n",
    "}\n",
    "\n",
    "# Send POST request\n",
    "response = requests.post(url, json=customer_data)\n",
    "\n",
    "# Check if the request was successful\n",
    "if response.status_code == 200:\n",
    "    # Parse the JSON response\n",
    "    result = response.json()\n",
    "    print(result)\n",
    "else:\n",
    "    print(\"Error:\", response.status_code, response.text)\n"
   ]
  }
 ],
 "metadata": {
  "language_info": {
   "name": "python"
  }
 },
 "nbformat": 4,
 "nbformat_minor": 2
}
